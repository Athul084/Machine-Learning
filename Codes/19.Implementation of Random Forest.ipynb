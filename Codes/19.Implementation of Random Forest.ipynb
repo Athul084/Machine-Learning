{
 "cells": [
  {
   "cell_type": "code",
   "execution_count": 4,
   "id": "b707337b-0062-4fa6-a5c8-1b8e52108d6b",
   "metadata": {},
   "outputs": [
    {
     "name": "stdout",
     "output_type": "stream",
     "text": [
      "Name : Athul Gopinath\n",
      "Roll No: CB.SC.I5DAS21018\n",
      "Accuracy is: 0.8524590163934426\n"
     ]
    }
   ],
   "source": [
    "print(\"Name : Athul Gopinath\")\n",
    "print(\"Roll No: CB.SC.I5DAS21018\")\n",
    "import pandas as pd \n",
    "import numpy as np \n",
    "from sklearn.tree import DecisionTreeClassifier \n",
    "from sklearn.neighbors import KNeighborsClassifier \n",
    "from sklearn.linear_model import LogisticRegression\n",
    "from sklearn.model_selection import train_test_split \n",
    "from sklearn.metrics import precision_score, recall_score, f1_score, accuracy_score \n",
    "from sklearn.ensemble import BaggingClassifier \n",
    "import warnings \n",
    "warnings.filterwarnings('ignore')\n",
    "df = pd.read_csv('heart.csv') \n",
    "x = df.drop('target', axis = 1) \n",
    "y = df['target'] \n",
    "x_train, x_test, y_train, y_test = train_test_split(x, y, test_size=0.2, random_state=0) \n",
    "from sklearn.ensemble import RandomForestClassifier\n",
    "classifier_rf = RandomForestClassifier(random_state=42, n_jobs=-1, max_depth=5, n_estimators=100) \n",
    "classifier_rf.fit(x_train, y_train) \n",
    "y_predict=classifier_rf.predict(x_test) \n",
    "print(\"Accuracy is:\",accuracy_score(y_test,y_predict)) "
   ]
  },
  {
   "cell_type": "code",
   "execution_count": null,
   "id": "ca15c6de-ad4e-41ed-afc5-7276071e68e5",
   "metadata": {},
   "outputs": [],
   "source": []
  }
 ],
 "metadata": {
  "kernelspec": {
   "display_name": "Python 3 (ipykernel)",
   "language": "python",
   "name": "python3"
  },
  "language_info": {
   "codemirror_mode": {
    "name": "ipython",
    "version": 3
   },
   "file_extension": ".py",
   "mimetype": "text/x-python",
   "name": "python",
   "nbconvert_exporter": "python",
   "pygments_lexer": "ipython3",
   "version": "3.11.7"
  }
 },
 "nbformat": 4,
 "nbformat_minor": 5
}
