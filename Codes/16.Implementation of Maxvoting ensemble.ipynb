{
 "cells": [
  {
   "cell_type": "code",
   "execution_count": 6,
   "id": "50cd3d65-ffb4-4579-94eb-40b98499f9e8",
   "metadata": {},
   "outputs": [
    {
     "name": "stdout",
     "output_type": "stream",
     "text": [
      "Name : Athul Gopinath\n",
      "Roll No: CB.SC.I5DAS21018\n",
      "Accuracy Ensamble Max voting: 0.819672131147541\n"
     ]
    }
   ],
   "source": [
    "print(\"Name : Athul Gopinath\")\n",
    "print(\"Roll No: CB.SC.I5DAS21018\")\n",
    "import pandas as pd\n",
    "import numpy as np \n",
    "from sklearn.tree import DecisionTreeClassifier \n",
    "from sklearn.neighbors import KNeighborsClassifier \n",
    "from sklearn.linear_model import LogisticRegression\n",
    "from sklearn.model_selection import train_test_split\n",
    "import warnings \n",
    "warnings.filterwarnings('ignore')\n",
    "from sklearn.metrics import precision_score, recall_score, f1_score, accuracy_score\n",
    "from sklearn.ensemble import VotingClassifier \n",
    "df = pd.read_csv('heart.csv') \n",
    "x = df.drop('target', axis = 1) \n",
    "y = df['target'] \n",
    "x_train, x_test, y_train, y_test = train_test_split(x, y, test_size=0.2, random_state=0) \n",
    "model1 = DecisionTreeClassifier() \n",
    "model2 = KNeighborsClassifier() \n",
    "model3= LogisticRegression() \n",
    "model = VotingClassifier(estimators=[('dt', model1), ('knn', model2), ('lr', model3)])\n",
    "model.fit(x_train,y_train) \n",
    "y_predict=model.predict(x_test) \n",
    "print(\"Accuracy Ensamble Max voting:\", accuracy_score(y_test, y_predict))"
   ]
  },
  {
   "cell_type": "code",
   "execution_count": null,
   "id": "98d399e4-9c55-4d59-beec-57d3c41341e3",
   "metadata": {},
   "outputs": [],
   "source": []
  }
 ],
 "metadata": {
  "kernelspec": {
   "display_name": "Python 3 (ipykernel)",
   "language": "python",
   "name": "python3"
  },
  "language_info": {
   "codemirror_mode": {
    "name": "ipython",
    "version": 3
   },
   "file_extension": ".py",
   "mimetype": "text/x-python",
   "name": "python",
   "nbconvert_exporter": "python",
   "pygments_lexer": "ipython3",
   "version": "3.11.7"
  }
 },
 "nbformat": 4,
 "nbformat_minor": 5
}
