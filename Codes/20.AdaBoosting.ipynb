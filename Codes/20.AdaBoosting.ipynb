{
 "cells": [
  {
   "cell_type": "code",
   "execution_count": 6,
   "id": "c34da47c-f93f-446e-afd1-1a5fdaf3040a",
   "metadata": {},
   "outputs": [
    {
     "name": "stdout",
     "output_type": "stream",
     "text": [
      "Name : Athul Gopinath\n",
      "Roll No: CB.SC.I5DAS21018\n",
      "Accuracy Classification: 1.0\n"
     ]
    }
   ],
   "source": [
    "print(\"Name : Athul Gopinath\")\n",
    "print(\"Roll No: CB.SC.I5DAS21018\")\n",
    "from sklearn.ensemble import AdaBoostClassifier, AdaBoostRegressor\n",
    "from sklearn.datasets import load_iris,fetch_california_housing\n",
    "from sklearn.model_selection import train_test_split\n",
    "from sklearn.metrics import accuracy_score, mean_squared_error\n",
    "\n",
    "iris_data = load_iris()\n",
    "X_iris = iris_data.data\n",
    "y_iris = iris_data.target\n",
    "\n",
    "X_train_iris, X_test_iris, y_train_iris, y_test_iris = train_test_split(X_iris, y_iris, test_size=0.2, random_state=42)\n",
    "\n",
    "ada_boost_classifier = AdaBoostClassifier(n_estimators=50, random_state=42)\n",
    "ada_boost_classifier.fit(X_train_iris, y_train_iris)\n",
    "\n",
    "y_pred_iris = ada_boost_classifier.predict(X_test_iris)\n",
    "\n",
    "accuracy_iris = accuracy_score(y_test_iris, y_pred_iris)\n",
    "print(\"Accuracy Classification:\", accuracy_iris)"
   ]
  },
  {
   "cell_type": "code",
   "execution_count": 13,
   "id": "1303a738-1f28-4c70-962d-135b576ffba4",
   "metadata": {},
   "outputs": [
    {
     "name": "stdout",
     "output_type": "stream",
     "text": [
      "Name : Athul Gopinath\n",
      "Roll No: CB.SC.I5DAS21018\n",
      "Mean Squared Error: 0.11667215593112482\n"
     ]
    }
   ],
   "source": [
    "print(\"Name : Athul Gopinath\")\n",
    "print(\"Roll No: CB.SC.I5DAS21018\")\n",
    "from sklearn.datasets import load_iris\n",
    "from sklearn.ensemble import AdaBoostRegressor\n",
    "from sklearn.tree import DecisionTreeRegressor\n",
    "from sklearn.model_selection import train_test_split\n",
    "from sklearn.metrics import mean_squared_error\n",
    "from sklearn.preprocessing import LabelEncoder\n",
    "import warnings \n",
    "warnings.filterwarnings('ignore')\n",
    "\n",
    "df = pd.read_csv(\"Covid Data.csv\") \n",
    "df = df.apply(LabelEncoder().fit_transform)\n",
    "\n",
    "X = df.iloc[:,:-1] \n",
    "y = df.iloc[:,-1]\n",
    "\n",
    "X_train, X_test, y_train, y_test = train_test_split(X, y, test_size=0.2, random_state=42)\n",
    "\n",
    "ada_regressor = AdaBoostRegressor(base_estimator=DecisionTreeRegressor(max_depth=4), n_estimators=50, learning_rate=1.0)\n",
    "\n",
    "\n",
    "ada_regressor.fit(X_train, y_train)\n",
    "\n",
    "\n",
    "y_pred = ada_regressor.predict(X_test)\n",
    "\n",
    "mse = mean_squared_error(y_test, y_pred)\n",
    "print(\"Mean Squared Error:\", mse)\n"
   ]
  },
  {
   "cell_type": "code",
   "execution_count": null,
   "id": "e2dd5a39-2395-4373-81d5-e13a10d7b811",
   "metadata": {},
   "outputs": [],
   "source": []
  },
  {
   "cell_type": "code",
   "execution_count": null,
   "id": "73aa94ea-0903-4c71-8d85-babf20ef102e",
   "metadata": {},
   "outputs": [],
   "source": []
  }
 ],
 "metadata": {
  "kernelspec": {
   "display_name": "Python 3 (ipykernel)",
   "language": "python",
   "name": "python3"
  },
  "language_info": {
   "codemirror_mode": {
    "name": "ipython",
    "version": 3
   },
   "file_extension": ".py",
   "mimetype": "text/x-python",
   "name": "python",
   "nbconvert_exporter": "python",
   "pygments_lexer": "ipython3",
   "version": "3.11.7"
  }
 },
 "nbformat": 4,
 "nbformat_minor": 5
}
