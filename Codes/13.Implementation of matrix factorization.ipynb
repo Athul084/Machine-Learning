{
 "cells": [
  {
   "cell_type": "code",
   "execution_count": 3,
   "id": "43896569-6513-409b-bbe3-4d588f0180de",
   "metadata": {},
   "outputs": [
    {
     "name": "stdout",
     "output_type": "stream",
     "text": [
      "Name : Athul Gopinath\n",
      "Roll No: CB.SC.I5DAS21018\n",
      "[[0.00520502 0.01842102 0.03443556 0.03356968 0.0097163 ]\n",
      " [0.12467679 0.44124176 0.82484082 0.80410014 0.23273628]\n",
      " [0.1020978  0.36133278 0.67546197 0.65847743 0.19058769]\n",
      " [0.06477852 0.22925669 0.42856386 0.4177876  0.12092316]\n",
      " [0.02258949 0.07994614 0.14944832 0.14569043 0.04216819]]\n"
     ]
    }
   ],
   "source": [
    "import numpy as np\n",
    "import math\n",
    "import sklearn.metrics\n",
    "def matrix_factorization(R, P, Q, K, steps=5000, alpha=0.0001):\n",
    "    Q = Q.T\n",
    "    for step in range(steps):\n",
    "        for i in range(len(R)):\n",
    "            for j in range(len(R[i])):\n",
    "                 if R[i][j] > 0:\n",
    "                     eij = R[i][j] - np.dot(P[i,:],Q[:,j])\n",
    "                     for k in range(K):\n",
    "                        P[i][k] = P[i][k] + alpha * 2 * eij * Q[k][j]\n",
    "                        Q[k][j] = Q[k][j] + alpha * 2 * eij * P[i][k]\n",
    "        return P, Q.T\n",
    "R = [[0,5,4,2, 1],[1,0,0,5, 3], [1,4,4,1, 0],[0,0,2, 0, 2],[3,1,1,0, 0] ]\n",
    "R = np.array(R)\n",
    "N = len(R)\n",
    "M = len(R[0])\n",
    "K = 1\n",
    "P = np.random.rand(N,K)\n",
    "Q = np.random.rand(M,K)\n",
    "nP, nQ = matrix_factorization(R, P, Q, K)\n",
    "nR = np.dot(nP, nQ.T)\n",
    "print(\"Name : Athul Gopinath\")\n",
    "print(\"Roll No: CB.SC.I5DAS21018\")\n",
    "print(nR)"
   ]
  },
  {
   "cell_type": "code",
   "execution_count": null,
   "id": "775b7537-8759-4968-aa97-6b35e0ff7f59",
   "metadata": {},
   "outputs": [],
   "source": []
  }
 ],
 "metadata": {
  "kernelspec": {
   "display_name": "Python 3 (ipykernel)",
   "language": "python",
   "name": "python3"
  },
  "language_info": {
   "codemirror_mode": {
    "name": "ipython",
    "version": 3
   },
   "file_extension": ".py",
   "mimetype": "text/x-python",
   "name": "python",
   "nbconvert_exporter": "python",
   "pygments_lexer": "ipython3",
   "version": "3.11.7"
  }
 },
 "nbformat": 4,
 "nbformat_minor": 5
}
