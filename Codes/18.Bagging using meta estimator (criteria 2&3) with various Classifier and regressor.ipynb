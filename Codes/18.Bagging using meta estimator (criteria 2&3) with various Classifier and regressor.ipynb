{
 "cells": [
  {
   "cell_type": "markdown",
   "id": "b3047ae7-d6e1-423c-8776-dc30743aede9",
   "metadata": {},
   "source": [
    "Criteria 2"
   ]
  },
  {
   "cell_type": "code",
   "execution_count": 1,
   "id": "1ff6f960-ca66-4470-a859-9f7b5c467fb2",
   "metadata": {},
   "outputs": [
    {
     "name": "stdout",
     "output_type": "stream",
     "text": [
      "Name : Athul Gopinath\n",
      "Roll No: CB.SC.I5DAS21018\n",
      "Accuracy: 0.8360655737704918\n"
     ]
    }
   ],
   "source": [
    "print(\"Name : Athul Gopinath\")\n",
    "print(\"Roll No: CB.SC.I5DAS21018\")\n",
    "import pandas as pd \n",
    "import numpy as np \n",
    "from sklearn.tree import DecisionTreeClassifier \n",
    "from sklearn.neighbors import KNeighborsClassifier \n",
    "from sklearn.linear_model import LogisticRegression\n",
    "from sklearn.model_selection import train_test_split \n",
    "from sklearn.metrics import precision_score, recall_score, f1_score, accuracy_score \n",
    "from sklearn.ensemble import BaggingClassifier \n",
    "import warnings \n",
    "warnings.filterwarnings('ignore')  \n",
    "df = pd.read_csv(\"heart.csv\") \n",
    "x = df.drop('target', axis = 1) \n",
    "y = df['target'] \n",
    "x_train, x_test, y_train, y_test = train_test_split(x, y, test_size=0.2, random_state=0) \n",
    "n_subset=100\n",
    "model = DecisionTreeClassifier() \n",
    "bagging_classifier = BaggingClassifier(base_estimator= model, n_estimators=n_subset) \n",
    "bagging_classifier.fit(x_train, y_train)  \n",
    "y_pred = bagging_classifier.predict(x_test)  \n",
    "accuracy = accuracy_score(y_test, y_pred) \n",
    "print(\"Accuracy:\", accuracy)"
   ]
  },
  {
   "cell_type": "markdown",
   "id": "a474e515-ad47-4409-9528-e63a8dbfcd26",
   "metadata": {},
   "source": [
    "Criteria 3"
   ]
  },
  {
   "cell_type": "code",
   "execution_count": 4,
   "id": "05024eeb-9c6f-4588-9b5a-71eaa6e10c64",
   "metadata": {},
   "outputs": [
    {
     "name": "stdout",
     "output_type": "stream",
     "text": [
      "Accuracy 0.8524590163934426\n"
     ]
    }
   ],
   "source": [
    "from sklearn.ensemble import VotingClassifier\n",
    "model1=KNeighborsClassifier()\n",
    "model2=DecisionTreeClassifier()\n",
    "model3=LogisticRegression() \n",
    "bagging_classifier1 = BaggingClassifier(base_estimator= model1, n_estimators=n_subset)\n",
    "bagging_classifier2 = BaggingClassifier(base_estimator= model2, n_estimators=n_subset)\n",
    "bagging_classifier3 = BaggingClassifier(base_estimator= model3, n_estimators=n_subset)\n",
    "model = VotingClassifier(estimators=[('knn', bagging_classifier1), ('DT', bagging_classifier2), ('lr', bagging_classifier3)])\n",
    "model.fit(x_train,y_train)\n",
    "y_predict=model.predict(x_test)\n",
    "\n",
    "accuracy = accuracy_score(y_test, y_predict)\n",
    "print(\"Accuracy\", accuracy)"
   ]
  },
  {
   "cell_type": "code",
   "execution_count": null,
   "id": "543dc081-256e-4194-8af9-f5e815f1097d",
   "metadata": {},
   "outputs": [],
   "source": []
  }
 ],
 "metadata": {
  "kernelspec": {
   "display_name": "Python 3 (ipykernel)",
   "language": "python",
   "name": "python3"
  },
  "language_info": {
   "codemirror_mode": {
    "name": "ipython",
    "version": 3
   },
   "file_extension": ".py",
   "mimetype": "text/x-python",
   "name": "python",
   "nbconvert_exporter": "python",
   "pygments_lexer": "ipython3",
   "version": "3.11.7"
  }
 },
 "nbformat": 4,
 "nbformat_minor": 5
}
